{
  "nbformat": 4,
  "nbformat_minor": 0,
  "metadata": {
    "colab": {
      "provenance": []
    },
    "kernelspec": {
      "name": "python3",
      "display_name": "Python 3"
    },
    "language_info": {
      "name": "python"
    }
  },
  "cells": [
    {
      "cell_type": "markdown",
      "source": [
        "4. Evaluation of ANOVA and F-Test for Regression\n",
        "\n",
        "  Real-life scenario: predicting exam scores from study hours."
      ],
      "metadata": {
        "id": "UwKidXKY8Tfk"
      }
    },
    {
      "cell_type": "code",
      "execution_count": 1,
      "metadata": {
        "id": "-nKcRRft7hsd"
      },
      "outputs": [],
      "source": [
        "import numpy as np\n",
        "import pandas as pd\n",
        "import statsmodels.api\n",
        "import statsmodels.formula.api as smf\n",
        "from statsmodels.stats.anova import anova_lm"
      ]
    },
    {
      "cell_type": "code",
      "source": [
        "# Scenario dataset: Hours of study vs Exam scores\n",
        "data = pd.DataFrame({\n",
        "    \"Hours\": [1, 2, 3, 4, 5, 6, 7, 8, 9],\n",
        "    \"Score\": [52, 54, 60, 63, 65, 70, 72, 74, 78]\n",
        "})"
      ],
      "metadata": {
        "id": "tr45F6UM9CqD"
      },
      "execution_count": 2,
      "outputs": []
    },
    {
      "cell_type": "code",
      "source": [
        "# Fit regression model using formula API\n",
        "# 'Score ~ Hours' means Score is dependent variable, Hours is independent\n",
        "model = smf.ols(\"Score ~ Hours\", data=data).fit()\n"
      ],
      "metadata": {
        "id": "jm6_ZNcD9CtL"
      },
      "execution_count": 3,
      "outputs": []
    },
    {
      "cell_type": "code",
      "source": [
        "# ANOVA table\n",
        "anova_table = anova_lm(model, typ=2)\n",
        "print(\"ANOVA Table:\")\n",
        "print(anova_table)"
      ],
      "metadata": {
        "colab": {
          "base_uri": "https://localhost:8080/"
        },
        "id": "jCH3pfWD9CwO",
        "outputId": "e4c88a68-a468-46e0-911f-0b8377221492"
      },
      "execution_count": 4,
      "outputs": [
        {
          "output_type": "stream",
          "name": "stdout",
          "text": [
            "ANOVA Table:\n",
            "          sum_sq   df           F        PR(>F)\n",
            "Hours     633.75  1.0  537.727273  7.036074e-08\n",
            "Residual    8.25  7.0         NaN           NaN\n"
          ]
        }
      ]
    },
    {
      "cell_type": "code",
      "source": [
        "# F-Test for regression significance\n",
        "print(\"\\nF-statistic:\", model.fvalue)\n",
        "print(\"p-value for F-test:\", model.f_pvalue)"
      ],
      "metadata": {
        "colab": {
          "base_uri": "https://localhost:8080/"
        },
        "id": "XonzCOLQ9Cy7",
        "outputId": "0be2c974-8558-4f53-eca7-9efa359b52b9"
      },
      "execution_count": 5,
      "outputs": [
        {
          "output_type": "stream",
          "name": "stdout",
          "text": [
            "\n",
            "F-statistic: 537.7272727272726\n",
            "p-value for F-test: 7.036074148339611e-08\n"
          ]
        }
      ]
    },
    {
      "cell_type": "code",
      "source": [
        "# Interpretation\n",
        "if model.f_pvalue < 0.05:\n",
        "    print(\"\\nResult: The regression model is statistically significant (reject H0).\")\n",
        "else:\n",
        "    print(\"\\nResult: The regression model is not statistically significant (fail to reject H0).\")"
      ],
      "metadata": {
        "colab": {
          "base_uri": "https://localhost:8080/"
        },
        "id": "n1Zofdu29fGP",
        "outputId": "e0b2558d-361f-4ad7-ee32-ff674b5070c1"
      },
      "execution_count": 6,
      "outputs": [
        {
          "output_type": "stream",
          "name": "stdout",
          "text": [
            "\n",
            "Result: The regression model is statistically significant (reject H0).\n"
          ]
        }
      ]
    }
  ]
}