{
  "nbformat": 4,
  "nbformat_minor": 0,
  "metadata": {
    "colab": {
      "provenance": []
    },
    "kernelspec": {
      "name": "python3",
      "display_name": "Python 3"
    },
    "language_info": {
      "name": "python"
    }
  },
  "cells": [
    {
      "cell_type": "markdown",
      "source": [
        "Program-2\n",
        "\n",
        "Jupyter Notebook Installation and Running Python Programs:\n",
        "1. Install Python\n",
        "•\tDownload and install Python from python.org or install Anaconda (recommended, comes with Python, Jupyter, and packages).\n",
        "2. Install Jupyter Notebook\n",
        "•\tIf using Python alone, open Command Prompt / Terminal and run:\n",
        "pip install notebook\n",
        "3. Launch Jupyter Notebook\n",
        "•\tOpen Command Prompt / Terminal and type:\n",
        "jupyter notebook\n",
        "4. Create a New Notebook\n",
        "•\tIn the browser, click New → Python 3 to create a notebook.\n",
        "•\tA new notebook tab will open with cells to write Python code.\n",
        "5. Write and Run Python Programs\n",
        "•\tType Python code in a cell.\n",
        "•\tPress Shift + Enter to run the code.\n",
        "•\tThe output appears just below the cell.\n"
      ],
      "metadata": {
        "id": "Pdbt-dP7AoLj"
      }
    }
  ]
}