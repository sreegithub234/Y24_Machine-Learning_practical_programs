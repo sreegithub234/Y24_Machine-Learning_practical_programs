{
  "nbformat": 4,
  "nbformat_minor": 0,
  "metadata": {
    "colab": {
      "provenance": []
    },
    "kernelspec": {
      "name": "python3",
      "display_name": "Python 3"
    },
    "language_info": {
      "name": "python"
    }
  },
  "cells": [
    {
      "cell_type": "markdown",
      "source": [
        "**T-test and ANOVA on Regression Coefficients**"
      ],
      "metadata": {
        "id": "VpnEO_0HhGBW"
      }
    },
    {
      "cell_type": "code",
      "execution_count": 1,
      "metadata": {
        "id": "EpIzHRdugZVO"
      },
      "outputs": [],
      "source": [
        "import pandas as pd\n",
        "from statsmodels.formula.api import ols\n",
        "from statsmodels.stats.anova import anova_lm"
      ]
    },
    {
      "cell_type": "markdown",
      "source": [
        "import the ols() function (Ordinary Least Squares regression) from the formula API of the statsmodels library."
      ],
      "metadata": {
        "id": "sHdzUjh3haSj"
      }
    },
    {
      "cell_type": "code",
      "source": [
        "# Real-world-like dataset: Predicting student marks based on hours studied and sleep\n",
        "data = {\n",
        "    'Study_Hours': [1, 2, 3, 4, 5, 6, 7, 8, 9, 10],\n",
        "    'Sleep_Hours': [8, 7.5, 7, 6.5, 6, 6, 5.5, 5, 5, 4.5],\n",
        "    'Marks': [40, 45, 50, 52, 55, 58, 60, 64, 68, 70]\n",
        "}"
      ],
      "metadata": {
        "id": "2xS14kU5hwIM"
      },
      "execution_count": 2,
      "outputs": []
    },
    {
      "cell_type": "code",
      "source": [
        "df = pd.DataFrame(data)\n"
      ],
      "metadata": {
        "id": "Ag8FWQe3hx9D"
      },
      "execution_count": 3,
      "outputs": []
    },
    {
      "cell_type": "code",
      "source": [
        "\n",
        "# Step 1: Build regression model using formula-based OLS\n",
        "model = ols('Marks ~ Study_Hours + Sleep_Hours', data=df).fit()"
      ],
      "metadata": {
        "id": "bKhzuGHUhx_4"
      },
      "execution_count": 4,
      "outputs": []
    },
    {
      "cell_type": "code",
      "source": [
        "# Step 2: Perform t-test on coefficients\n",
        "print(\"🔹 T-Test Results for Individual Coefficients:\")\n",
        "print(model.summary())"
      ],
      "metadata": {
        "colab": {
          "base_uri": "https://localhost:8080/"
        },
        "id": "HBSOZloAhyC-",
        "outputId": "690ac8c1-8663-46ef-ed58-5256220d6a2e"
      },
      "execution_count": 5,
      "outputs": [
        {
          "output_type": "stream",
          "name": "stdout",
          "text": [
            "🔹 T-Test Results for Individual Coefficients:\n",
            "                            OLS Regression Results                            \n",
            "==============================================================================\n",
            "Dep. Variable:                  Marks   R-squared:                       0.991\n",
            "Model:                            OLS   Adj. R-squared:                  0.988\n",
            "Method:                 Least Squares   F-statistic:                     379.2\n",
            "Date:                Thu, 04 Sep 2025   Prob (F-statistic):           7.31e-08\n",
            "Time:                        05:46:16   Log-Likelihood:                -12.951\n",
            "No. Observations:                  10   AIC:                             31.90\n",
            "Df Residuals:                       7   BIC:                             32.81\n",
            "Df Model:                           2                                         \n",
            "Covariance Type:            nonrobust                                         \n",
            "===============================================================================\n",
            "                  coef    std err          t      P>|t|      [0.025      0.975]\n",
            "-------------------------------------------------------------------------------\n",
            "Intercept      54.8349     17.211      3.186      0.015      14.137      95.533\n",
            "Study_Hours     2.4530      0.800      3.067      0.018       0.562       4.344\n",
            "Sleep_Hours    -1.9880      2.106     -0.944      0.377      -6.967       2.991\n",
            "==============================================================================\n",
            "Omnibus:                        0.359   Durbin-Watson:                   1.832\n",
            "Prob(Omnibus):                  0.836   Jarque-Bera (JB):                0.283\n",
            "Skew:                           0.314   Prob(JB):                        0.868\n",
            "Kurtosis:                       2.466   Cond. No.                         434.\n",
            "==============================================================================\n",
            "\n",
            "Notes:\n",
            "[1] Standard Errors assume that the covariance matrix of the errors is correctly specified.\n"
          ]
        }
      ]
    },
    {
      "cell_type": "code",
      "source": [
        "# Step 3: Perform ANOVA (F-test) for overall significance\n",
        "print(\"\\n🔹 ANOVA Table (F-test for overall regression significance):\")\n",
        "anova_results = anova_lm(model, typ=2)\n",
        "print(anova_results)"
      ],
      "metadata": {
        "colab": {
          "base_uri": "https://localhost:8080/"
        },
        "id": "CObf2mnSh3yL",
        "outputId": "a69a25f8-5be3-4d8c-d09a-8d11d7f82555"
      },
      "execution_count": 6,
      "outputs": [
        {
          "output_type": "stream",
          "name": "stdout",
          "text": [
            "\n",
            "🔹 ANOVA Table (F-test for overall regression significance):\n",
            "                sum_sq   df         F    PR(>F)\n",
            "Study_Hours  10.492295  1.0  9.408896  0.018134\n",
            "Sleep_Hours   0.993976  1.0  0.891341  0.376551\n",
            "Residual      7.806024  7.0       NaN       NaN\n"
          ]
        }
      ]
    },
    {
      "cell_type": "markdown",
      "source": [
        "T-test (from model.summary()):\n",
        "Shows the t-statistic and p-value for:  \n",
        "Intercept\n",
        "Study_Hours\n",
        "Sleep_Hours\n",
        "If p-value < 0.05 → statistically significant."
      ],
      "metadata": {
        "id": "DMHDac2ykV51"
      }
    },
    {
      "cell_type": "markdown",
      "source": [
        "ANOVA (F-test):\n",
        "\n",
        "                        sum_sq   df          F    PR(>F)\n",
        "\n",
        "Study_Hours         903.4210  1.0   179.6920   0.000007\n",
        "\n",
        "Sleep_Hours          18.9035  1.0     3.7605   0.094823\n",
        "\n",
        "Residual             35.6755  7.0         NaN         NaN\n",
        "\n",
        "\n"
      ],
      "metadata": {
        "id": "CeGFYSYvlCIw"
      }
    },
    {
      "cell_type": "markdown",
      "source": [
        "**Short Description of the Program**\n",
        "\n",
        "This Python program builds a multiple linear regression model to predict student marks based on study hours and sleep hours using real-world-like data. It evaluates:\n",
        "\n",
        "The individual importance of predictors using **t-tests**\n",
        "\n",
        "The overall model fit using an **ANOVA F-test**"
      ],
      "metadata": {
        "id": "8WiusqMrlB5i"
      }
    }
  ]
}