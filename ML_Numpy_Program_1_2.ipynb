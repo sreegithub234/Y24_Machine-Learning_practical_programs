{
  "nbformat": 4,
  "nbformat_minor": 0,
  "metadata": {
    "colab": {
      "provenance": []
    },
    "kernelspec": {
      "name": "python3",
      "display_name": "Python 3"
    },
    "language_info": {
      "name": "python"
    }
  },
  "cells": [
    {
      "cell_type": "markdown",
      "source": [
        "# NumPy (Numerical Python) is a core Python library used for numerical and scientific computing. It provides support for:\n",
        "\n",
        "1. Efficient multi-dimensional arrays (ndarray)\n",
        "\n",
        "2. Mathematical operations on arrays (element-wise and matrix-level)\n",
        "\n",
        "3. Linear algebra, random number generation, Fourier transforms, etc."
      ],
      "metadata": {
        "id": "-0qDOt0NdjCG"
      }
    },
    {
      "cell_type": "markdown",
      "source": [
        " install NumPy"
      ],
      "metadata": {
        "id": "UaVyedHMqAUT"
      }
    },
    {
      "cell_type": "markdown",
      "source": [
        "pip install numpy"
      ],
      "metadata": {
        "id": "FI8P__hBp5Dz"
      }
    },
    {
      "cell_type": "code",
      "source": [
        "#pip install numpy"
      ],
      "metadata": {
        "id": "HGTiWZ9dqJdX"
      },
      "execution_count": null,
      "outputs": []
    },
    {
      "cell_type": "code",
      "source": [
        "import numpy as np\n"
      ],
      "metadata": {
        "id": "WYSFGQwYsLFk"
      },
      "execution_count": 4,
      "outputs": []
    },
    {
      "cell_type": "markdown",
      "source": [
        "Basic NumPy Examples"
      ],
      "metadata": {
        "id": "p24NGz13sPQh"
      }
    },
    {
      "cell_type": "markdown",
      "source": [
        " 1.Creating Arrays"
      ],
      "metadata": {
        "id": "Jo74cywCsctu"
      }
    },
    {
      "cell_type": "code",
      "source": [
        "import numpy as np\n",
        "\n",
        "# 1D array\n",
        "a = np.array([1, 2, 3])\n",
        "print(\"1D Array:\", a)\n",
        "\n",
        "# 2D array (matrix)\n",
        "b = np.array([[1, 2], [3, 4]])\n",
        "print(\"2D Array:\\n\", b)\n"
      ],
      "metadata": {
        "colab": {
          "base_uri": "https://localhost:8080/"
        },
        "id": "rQ3puAXvsP1n",
        "outputId": "968e311f-0c39-4855-ceca-39887f7e9ece"
      },
      "execution_count": 5,
      "outputs": [
        {
          "output_type": "stream",
          "name": "stdout",
          "text": [
            "1D Array: [1 2 3]\n",
            "2D Array:\n",
            " [[1 2]\n",
            " [3 4]]\n"
          ]
        }
      ]
    },
    {
      "cell_type": "markdown",
      "source": [
        "2. Array Operations"
      ],
      "metadata": {
        "id": "mBCT9Po9smQR"
      }
    },
    {
      "cell_type": "code",
      "source": [
        "x = np.array([10, 20, 30])\n",
        "y = np.array([1, 2, 3])\n",
        "\n",
        "# Element-wise addition\n",
        "print(\"Addition:\", x + y)\n",
        "\n",
        "# Element-wise multiplication\n",
        "print(\"Multiplication:\", x * y)\n",
        "\n",
        "# Exponentiation\n",
        "print(\"Exponentiation:\", x ** 2)\n"
      ],
      "metadata": {
        "colab": {
          "base_uri": "https://localhost:8080/"
        },
        "id": "d-gvL-9asocT",
        "outputId": "2ad92382-3e00-4ac8-f5b3-baffbaaca057"
      },
      "execution_count": 6,
      "outputs": [
        {
          "output_type": "stream",
          "name": "stdout",
          "text": [
            "Addition: [11 22 33]\n",
            "Multiplication: [10 40 90]\n",
            "Exponentiation: [100 400 900]\n"
          ]
        }
      ]
    },
    {
      "cell_type": "markdown",
      "source": [
        "3. Statistical Functions"
      ],
      "metadata": {
        "id": "wT_LaTx9su0_"
      }
    },
    {
      "cell_type": "code",
      "source": [
        "data = np.array([1, 2, 3, 4, 5])\n",
        "\n",
        "print(\"Mean:\", np.mean(data))\n",
        "print(\"Standard Deviation:\", np.std(data))\n",
        "print(\"Max:\", np.max(data))\n",
        "print(\"Sum:\", np.sum(data))\n"
      ],
      "metadata": {
        "colab": {
          "base_uri": "https://localhost:8080/"
        },
        "id": "Y4kKmU38sw7q",
        "outputId": "768203a2-568a-449d-96bf-f39f4c95a810"
      },
      "execution_count": 7,
      "outputs": [
        {
          "output_type": "stream",
          "name": "stdout",
          "text": [
            "Mean: 3.0\n",
            "Standard Deviation: 1.4142135623730951\n",
            "Max: 5\n",
            "Sum: 15\n"
          ]
        }
      ]
    },
    {
      "cell_type": "markdown",
      "source": [
        "Real-Time Use Case:1\n",
        " -Body Mass Index calucation"
      ],
      "metadata": {
        "id": "id2wHcAXsy9d"
      }
    },
    {
      "cell_type": "code",
      "source": [
        "weights = np.array([50, 60, 70])    # in kg\n",
        "heights = np.array([1.6, 1.7, 1.8]) # in meters\n",
        "\n",
        "bmi = weights / (heights ** 2)\n",
        "print(\"BMI values:\", bmi)\n"
      ],
      "metadata": {
        "colab": {
          "base_uri": "https://localhost:8080/"
        },
        "id": "HhobuTz5s17y",
        "outputId": "7a1de8a1-a2cf-4955-8450-16d69b1964cd"
      },
      "execution_count": 8,
      "outputs": [
        {
          "output_type": "stream",
          "name": "stdout",
          "text": [
            "BMI values: [19.53125    20.76124567 21.60493827]\n"
          ]
        }
      ]
    },
    {
      "cell_type": "markdown",
      "source": [
        "Real-Time Use Case:2 - Student Progress Tracking Program using NumPy"
      ],
      "metadata": {
        "id": "EOtHaetLtPAZ"
      }
    },
    {
      "cell_type": "code",
      "source": [
        "import numpy as np\n",
        "\n",
        "# Student names\n",
        "students = np.array([\"Anjali\", \"Sravanthi\", \"Rajendra\"])\n",
        "\n",
        "# Marks in 3 subjects: [Math, Science, English]\n",
        "marks = np.array([\n",
        "    [85, 78, 92],   # Anjali\n",
        "    [70, 88, 75],   # Sravanthi\n",
        "    [90, 95, 93]    # Rajendra\n",
        "])\n",
        "\n",
        "# Step 1: Calculate average marks for each student\n",
        "average_marks = np.mean(marks, axis=1)\n",
        "\n",
        "# Step 2: Assign grades based on average marks\n",
        "grades = np.where(average_marks >= 90, \"A+\",\n",
        "         np.where(average_marks >= 80, \"A\",\n",
        "         np.where(average_marks >= 70, \"B\", \"C\")))\n",
        "\n",
        "# Step 3: Display the final progress report\n",
        "print(\"Student Progress Report\")\n",
        "print(\"-\" * 40)\n",
        "print(f\"{'Name':<12} {'Average':<10} {'Grade'}\")\n",
        "print(\"-\" * 40)\n",
        "\n",
        "for i in range(len(students)):\n",
        "    print(f\"{students[i]:<12} {average_marks[i]:<10.2f} {grades[i]}\")\n",
        "\n",
        "print(\"-\" * 40)\n"
      ],
      "metadata": {
        "colab": {
          "base_uri": "https://localhost:8080/"
        },
        "id": "0hrglWIOtPdd",
        "outputId": "b11f14a1-dc00-4a4b-a2f8-11e532b6cb99"
      },
      "execution_count": 9,
      "outputs": [
        {
          "output_type": "stream",
          "name": "stdout",
          "text": [
            "Student Progress Report\n",
            "----------------------------------------\n",
            "Name         Average    Grade\n",
            "----------------------------------------\n",
            "Anjali       85.00      A\n",
            "Sravanthi    77.67      B\n",
            "Rajendra     92.67      A+\n",
            "----------------------------------------\n"
          ]
        }
      ]
    }
  ]
}