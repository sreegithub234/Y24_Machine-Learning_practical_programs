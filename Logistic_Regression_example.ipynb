{
  "nbformat": 4,
  "nbformat_minor": 0,
  "metadata": {
    "colab": {
      "provenance": []
    },
    "kernelspec": {
      "name": "python3",
      "display_name": "Python 3"
    },
    "language_info": {
      "name": "python"
    }
  },
  "cells": [
    {
      "cell_type": "code",
      "execution_count": 1,
      "metadata": {
        "colab": {
          "base_uri": "https://localhost:8080/"
        },
        "id": "ZnnpGQzQkl0_",
        "outputId": "3cb84dbf-fb99-46a4-9f39-a73a4df46645"
      },
      "outputs": [
        {
          "output_type": "stream",
          "name": "stdout",
          "text": [
            "Logistic Regression Computation\n",
            "z = 481\n",
            "Probability = 1.000000\n",
            "Resultant Class = 1 (1 = Selected, 0 = Not Selected)\n"
          ]
        }
      ],
      "source": [
        "import math\n",
        "\n",
        "# Parameters\n",
        "beta_0 = 1\n",
        "beta_1 = 8\n",
        "x = 60\n",
        "\n",
        "# Logistic regression hypothesis\n",
        "z = beta_0 + beta_1 * x\n",
        "p = 1 / (1 + math.exp(-z))\n",
        "\n",
        "# Classification threshold\n",
        "result_class = 1 if p >= 0.5 else 0\n",
        "\n",
        "print(\"Logistic Regression Computation\")\n",
        "print(f\"z = {z}\")\n",
        "print(f\"Probability = {p:.6f}\")\n",
        "print(f\"Resultant Class = {result_class} (1 = Selected, 0 = Not Selected)\")\n"
      ]
    }
  ]
}