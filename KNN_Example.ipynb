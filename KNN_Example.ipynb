{
  "nbformat": 4,
  "nbformat_minor": 0,
  "metadata": {
    "colab": {
      "provenance": []
    },
    "kernelspec": {
      "name": "python3",
      "display_name": "Python 3"
    },
    "language_info": {
      "name": "python"
    }
  },
  "cells": [
    {
      "cell_type": "code",
      "source": [
        "import numpy as np\n",
        "import pandas as pd\n",
        "from sklearn.neighbors import KNeighborsClassifier\n",
        "\n",
        "# Training data from the table\n",
        "data = {\n",
        "    \"BMI\": [33.6, 26.6, 23.4, 43.1, 35.3, 35.9, 36.7, 25.7, 23.3, 31.0],\n",
        "    \"Age\": [50, 30, 40, 67, 23, 67, 45, 46, 29, 56],\n",
        "    \"Sugar\": [1, 0, 0, 0, 1, 1, 1, 0, 0, 1]\n",
        "}\n",
        "\n",
        "df = pd.DataFrame(data)\n",
        "\n",
        "X = df[[\"BMI\", \"Age\"]]\n",
        "y = df[\"Sugar\"]\n",
        "\n",
        "# Define and train KNN model\n",
        "knn = KNeighborsClassifier(n_neighbors=3)\n",
        "knn.fit(X, y)\n",
        "\n",
        "# Test example as DataFrame (to match feature names)\n",
        "test_sample = pd.DataFrame([[43.6, 40]], columns=[\"BMI\", \"Age\"])\n",
        "prediction = knn.predict(test_sample)[0]\n",
        "\n",
        "print(\"Predicted Sugar Value:\", prediction)\n"
      ],
      "metadata": {
        "colab": {
          "base_uri": "https://localhost:8080/"
        },
        "id": "8dYwsOyykBO8",
        "outputId": "b21bf3ac-cee0-4d21-e143-4b08f39c32cd"
      },
      "execution_count": 5,
      "outputs": [
        {
          "output_type": "stream",
          "name": "stdout",
          "text": [
            "Predicted Sugar Value: 1\n"
          ]
        }
      ]
    }
  ]
}