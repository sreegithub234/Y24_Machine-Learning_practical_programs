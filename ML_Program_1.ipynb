{
  "nbformat": 4,
  "nbformat_minor": 0,
  "metadata": {
    "colab": {
      "provenance": []
    },
    "kernelspec": {
      "name": "python3",
      "display_name": "Python 3"
    },
    "language_info": {
      "name": "python"
    }
  },
  "cells": [
    {
      "cell_type": "code",
      "execution_count": 2,
      "metadata": {
        "id": "LAHCrtqKI3L7",
        "colab": {
          "base_uri": "https://localhost:8080/"
        },
        "outputId": "a7d89f3e-871f-432b-b1c3-222ddf368414"
      },
      "outputs": [
        {
          "output_type": "stream",
          "name": "stdout",
          "text": [
            "The sum of two numbers is: 50\n"
          ]
        }
      ],
      "source": [
        "def add_number(n1, n2):\n",
        "    sum = n1 + n2;\n",
        "    return sum;\n",
        "num1=30\n",
        "num2=20\n",
        "\n",
        "print(\"The sum of two numbers is:\",add_number(num1, num2))"
      ]
    },
    {
      "cell_type": "code",
      "source": [
        "n1 = int(input(\"Enter first number: \"))\n",
        "n2 = int(input(\"Enter second number: \"))\n",
        "sum = n1 + n2\n",
        "print(\"Sum:\", sum)\n"
      ],
      "metadata": {
        "id": "RC4QB0J1JpHX",
        "colab": {
          "base_uri": "https://localhost:8080/"
        },
        "outputId": "be35cdb9-46ee-4824-d5cb-4478b7f4ca8b"
      },
      "execution_count": 3,
      "outputs": [
        {
          "output_type": "stream",
          "name": "stdout",
          "text": [
            "Enter first number: 12\n",
            "Enter second number: 13\n",
            "Sum: 25\n"
          ]
        }
      ]
    },
    {
      "cell_type": "code",
      "source": [
        "n1 = input(\"Enter first number: \")\n",
        "n2 = input(\"Enter second number: \")\n",
        "sum = float(n1) + float(n2)\n",
        "print(\"Sum:\", sum)\n"
      ],
      "metadata": {
        "colab": {
          "base_uri": "https://localhost:8080/"
        },
        "id": "SarUkcpaKWbe",
        "outputId": "af9f7f89-0759-4e87-fc4f-08ffce83cd9c"
      },
      "execution_count": 4,
      "outputs": [
        {
          "output_type": "stream",
          "name": "stdout",
          "text": [
            "Enter first number: 12\n",
            "Enter second number: 13\n",
            "Sum: 25.0\n"
          ]
        }
      ]
    },
    {
      "cell_type": "code",
      "source": [
        "n1 = '00010'\n",
        "n2 = '10010'\n",
        "sum = bin(int(n1,2) + int(n2,2))\n",
        "print(sum)\n",
        "int(sum,2)\n"
      ],
      "metadata": {
        "colab": {
          "base_uri": "https://localhost:8080/"
        },
        "id": "jF-yf4uRKZAg",
        "outputId": "b9dced80-2901-40e7-d925-2b30537549d5"
      },
      "execution_count": 9,
      "outputs": [
        {
          "output_type": "stream",
          "name": "stdout",
          "text": [
            "0b10100\n"
          ]
        },
        {
          "output_type": "execute_result",
          "data": {
            "text/plain": [
              "20"
            ]
          },
          "metadata": {},
          "execution_count": 9
        }
      ]
    },
    {
      "cell_type": "code",
      "source": [
        "binary_value = \"10010\"\n",
        "integer_value = int(binary_value, 2)\n",
        "print(integer_value)\n"
      ],
      "metadata": {
        "colab": {
          "base_uri": "https://localhost:8080/"
        },
        "id": "CYswPcAUK-tR",
        "outputId": "c7cd371e-f04e-43d9-d93c-634f80be9318"
      },
      "execution_count": 10,
      "outputs": [
        {
          "output_type": "stream",
          "name": "stdout",
          "text": [
            "18\n"
          ]
        }
      ]
    },
    {
      "cell_type": "code",
      "source": [
        "binary_value = \"00010\"\n",
        "integer_value = int(binary_value, 2)\n",
        "print(integer_value)\n"
      ],
      "metadata": {
        "colab": {
          "base_uri": "https://localhost:8080/"
        },
        "id": "j3ARanb5LGpE",
        "outputId": "4f8a2755-dd97-4e96-d5ec-bcfb76c3f89a"
      },
      "execution_count": 11,
      "outputs": [
        {
          "output_type": "stream",
          "name": "stdout",
          "text": [
            "2\n"
          ]
        }
      ]
    },
    {
      "cell_type": "code",
      "source": [
        "decimal_value = 20\n",
        "binary_value = bin(decimal_value)\n",
        "print(binary_value)\n"
      ],
      "metadata": {
        "colab": {
          "base_uri": "https://localhost:8080/"
        },
        "id": "maZ4NZNAK-wW",
        "outputId": "fdfee497-b1ad-49c9-a553-c9579b95dc73"
      },
      "execution_count": 12,
      "outputs": [
        {
          "output_type": "stream",
          "name": "stdout",
          "text": [
            "0b10100\n"
          ]
        }
      ]
    },
    {
      "cell_type": "markdown",
      "source": [
        "asset keyword---Zero validataion error"
      ],
      "metadata": {
        "id": "E6ZYncuFLoMX"
      }
    },
    {
      "cell_type": "code",
      "source": [],
      "metadata": {
        "id": "uPI_SWlPMIeL"
      },
      "execution_count": 12,
      "outputs": []
    },
    {
      "cell_type": "code",
      "source": [
        "a=4\n",
        "b=0\n",
        "# using assert to check for 0\n",
        "print(\"The value of a/b is:\")\n",
        "assert b!=0\n",
        "print(a/b)\n"
      ],
      "metadata": {
        "colab": {
          "base_uri": "https://localhost:8080/",
          "height": 215
        },
        "id": "eT6jfe8iLtac",
        "outputId": "c7b65eb9-db05-44f7-e521-45e7c18f84dc"
      },
      "execution_count": 13,
      "outputs": [
        {
          "output_type": "stream",
          "name": "stdout",
          "text": [
            "The value of a/b is:\n"
          ]
        },
        {
          "output_type": "error",
          "ename": "AssertionError",
          "evalue": "",
          "traceback": [
            "\u001b[0;31m---------------------------------------------------------------------------\u001b[0m",
            "\u001b[0;31mAssertionError\u001b[0m                            Traceback (most recent call last)",
            "\u001b[0;32m/tmp/ipython-input-1845687264.py\u001b[0m in \u001b[0;36m<cell line: 0>\u001b[0;34m()\u001b[0m\n\u001b[1;32m      3\u001b[0m \u001b[0;31m# using assert to check for 0\u001b[0m\u001b[0;34m\u001b[0m\u001b[0;34m\u001b[0m\u001b[0m\n\u001b[1;32m      4\u001b[0m \u001b[0mprint\u001b[0m\u001b[0;34m(\u001b[0m\u001b[0;34m\"The value of a/b is:\"\u001b[0m\u001b[0;34m)\u001b[0m\u001b[0;34m\u001b[0m\u001b[0;34m\u001b[0m\u001b[0m\n\u001b[0;32m----> 5\u001b[0;31m \u001b[0;32massert\u001b[0m \u001b[0mb\u001b[0m\u001b[0;34m!=\u001b[0m\u001b[0;36m0\u001b[0m\u001b[0;34m\u001b[0m\u001b[0;34m\u001b[0m\u001b[0m\n\u001b[0m\u001b[1;32m      6\u001b[0m \u001b[0mprint\u001b[0m\u001b[0;34m(\u001b[0m\u001b[0ma\u001b[0m\u001b[0;34m/\u001b[0m\u001b[0mb\u001b[0m\u001b[0;34m)\u001b[0m\u001b[0;34m\u001b[0m\u001b[0;34m\u001b[0m\u001b[0m\n",
            "\u001b[0;31mAssertionError\u001b[0m: "
          ]
        }
      ]
    },
    {
      "cell_type": "code",
      "source": [
        "a=4\n",
        "b=0\n",
        "# using assert to check for 0\n",
        "print(\"The value of a/b is:\")\n",
        "assert b!=0 ,\"Zero Division Error\"\n",
        "print(a/b)"
      ],
      "metadata": {
        "colab": {
          "base_uri": "https://localhost:8080/",
          "height": 215
        },
        "id": "MT9Z8MaQMRZB",
        "outputId": "8197124d-6003-40c0-bb7d-f9832a3504f5"
      },
      "execution_count": 14,
      "outputs": [
        {
          "output_type": "stream",
          "name": "stdout",
          "text": [
            "The value of a/b is:\n"
          ]
        },
        {
          "output_type": "error",
          "ename": "AssertionError",
          "evalue": "Zero Division Error",
          "traceback": [
            "\u001b[0;31m---------------------------------------------------------------------------\u001b[0m",
            "\u001b[0;31mAssertionError\u001b[0m                            Traceback (most recent call last)",
            "\u001b[0;32m/tmp/ipython-input-2835952904.py\u001b[0m in \u001b[0;36m<cell line: 0>\u001b[0;34m()\u001b[0m\n\u001b[1;32m      3\u001b[0m \u001b[0;31m# using assert to check for 0\u001b[0m\u001b[0;34m\u001b[0m\u001b[0;34m\u001b[0m\u001b[0m\n\u001b[1;32m      4\u001b[0m \u001b[0mprint\u001b[0m\u001b[0;34m(\u001b[0m\u001b[0;34m\"The value of a/b is:\"\u001b[0m\u001b[0;34m)\u001b[0m\u001b[0;34m\u001b[0m\u001b[0;34m\u001b[0m\u001b[0m\n\u001b[0;32m----> 5\u001b[0;31m \u001b[0;32massert\u001b[0m \u001b[0mb\u001b[0m\u001b[0;34m!=\u001b[0m\u001b[0;36m0\u001b[0m \u001b[0;34m,\u001b[0m\u001b[0;34m\"Zero Division Error\"\u001b[0m\u001b[0;34m\u001b[0m\u001b[0;34m\u001b[0m\u001b[0m\n\u001b[0m\u001b[1;32m      6\u001b[0m \u001b[0mprint\u001b[0m\u001b[0;34m(\u001b[0m\u001b[0ma\u001b[0m\u001b[0;34m/\u001b[0m\u001b[0mb\u001b[0m\u001b[0;34m)\u001b[0m\u001b[0;34m\u001b[0m\u001b[0;34m\u001b[0m\u001b[0m\n",
            "\u001b[0;31mAssertionError\u001b[0m: Zero Division Error"
          ]
        }
      ]
    },
    {
      "cell_type": "code",
      "source": [
        "batch = [40, 26, 39, 30, 25, 30]\n",
        "#initializing cut temperature\n",
        "cut = 26\n",
        "#using assert to check for temperature greater than cut\n",
        "for i in batch:\n",
        "    assert i>=26, \"Batch is Rejected\"\n",
        "    print(str(i) + \"is O.K\")"
      ],
      "metadata": {
        "colab": {
          "base_uri": "https://localhost:8080/",
          "height": 268
        },
        "id": "GMbPW0iKMV62",
        "outputId": "7b3fb0fe-c3ae-435c-f8ef-e7374030c02e"
      },
      "execution_count": 15,
      "outputs": [
        {
          "output_type": "stream",
          "name": "stdout",
          "text": [
            "40is O.K\n",
            "26is O.K\n",
            "39is O.K\n",
            "30is O.K\n"
          ]
        },
        {
          "output_type": "error",
          "ename": "AssertionError",
          "evalue": "Batch is Rejected",
          "traceback": [
            "\u001b[0;31m---------------------------------------------------------------------------\u001b[0m",
            "\u001b[0;31mAssertionError\u001b[0m                            Traceback (most recent call last)",
            "\u001b[0;32m/tmp/ipython-input-3511114410.py\u001b[0m in \u001b[0;36m<cell line: 0>\u001b[0;34m()\u001b[0m\n\u001b[1;32m      4\u001b[0m \u001b[0;31m#using assert to check for temperature greater than cut\u001b[0m\u001b[0;34m\u001b[0m\u001b[0;34m\u001b[0m\u001b[0m\n\u001b[1;32m      5\u001b[0m \u001b[0;32mfor\u001b[0m \u001b[0mi\u001b[0m \u001b[0;32min\u001b[0m \u001b[0mbatch\u001b[0m\u001b[0;34m:\u001b[0m\u001b[0;34m\u001b[0m\u001b[0;34m\u001b[0m\u001b[0m\n\u001b[0;32m----> 6\u001b[0;31m     \u001b[0;32massert\u001b[0m \u001b[0mi\u001b[0m\u001b[0;34m>=\u001b[0m\u001b[0;36m26\u001b[0m\u001b[0;34m,\u001b[0m \u001b[0;34m\"Batch is Rejected\"\u001b[0m\u001b[0;34m\u001b[0m\u001b[0;34m\u001b[0m\u001b[0m\n\u001b[0m\u001b[1;32m      7\u001b[0m     \u001b[0mprint\u001b[0m\u001b[0;34m(\u001b[0m\u001b[0mstr\u001b[0m\u001b[0;34m(\u001b[0m\u001b[0mi\u001b[0m\u001b[0;34m)\u001b[0m \u001b[0;34m+\u001b[0m \u001b[0;34m\"is O.K\"\u001b[0m\u001b[0;34m)\u001b[0m\u001b[0;34m\u001b[0m\u001b[0;34m\u001b[0m\u001b[0m\n",
            "\u001b[0;31mAssertionError\u001b[0m: Batch is Rejected"
          ]
        }
      ]
    },
    {
      "cell_type": "code",
      "source": [
        "batch = [40, 26, 39, 30, 30, 30]\n",
        "#initializing cut temperature\n",
        "cut = 26\n",
        "#using assert to check for temperature greater than cut\n",
        "for i in batch:\n",
        "    assert i>=26, \"Batch is Rejected\"\n",
        "    print(str(i) + \"is O.K\")"
      ],
      "metadata": {
        "colab": {
          "base_uri": "https://localhost:8080/"
        },
        "id": "WoC2py_eM8SW",
        "outputId": "df8ce12c-738c-4d16-9b0c-78e58044332a"
      },
      "execution_count": 16,
      "outputs": [
        {
          "output_type": "stream",
          "name": "stdout",
          "text": [
            "40is O.K\n",
            "26is O.K\n",
            "39is O.K\n",
            "30is O.K\n",
            "30is O.K\n",
            "30is O.K\n"
          ]
        }
      ]
    },
    {
      "cell_type": "markdown",
      "source": [
        "STATEMENT"
      ],
      "metadata": {
        "id": "ntwV8QmfNOff"
      }
    },
    {
      "cell_type": "code",
      "source": [
        "# statement 1\n",
        "print('Hello')\n",
        "\n",
        "#statement 2\n",
        "x =20\n",
        "\n",
        "#statemnt 3\n",
        "print(x)\n"
      ],
      "metadata": {
        "colab": {
          "base_uri": "https://localhost:8080/"
        },
        "id": "o3yyQeJENTSq",
        "outputId": "d1a9994e-33f0-4a12-95f3-30191a62e222"
      },
      "execution_count": 17,
      "outputs": [
        {
          "output_type": "stream",
          "name": "stdout",
          "text": [
            "Hello\n",
            "20\n"
          ]
        }
      ]
    },
    {
      "cell_type": "markdown",
      "source": [
        "Mulitiple statements on a single line separated by semicolons, as follows:"
      ],
      "metadata": {
        "id": "wPHLmS4tNoyT"
      }
    },
    {
      "cell_type": "code",
      "source": [
        "#two statements in a single line\n",
        "l = 10; b = 5;\n",
        "\n",
        "#statement 3\n",
        "print('Area of rectangle:', l * b)\n"
      ],
      "metadata": {
        "colab": {
          "base_uri": "https://localhost:8080/"
        },
        "id": "GfdJdnR3Nveq",
        "outputId": "0cb006ca-8524-4af2-bbe0-a1f6ef105967"
      },
      "execution_count": 18,
      "outputs": [
        {
          "output_type": "stream",
          "name": "stdout",
          "text": [
            "Area of rectangle: 50\n"
          ]
        }
      ]
    }
  ]
}